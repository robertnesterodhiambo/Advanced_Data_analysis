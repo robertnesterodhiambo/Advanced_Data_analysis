{
  "nbformat": 4,
  "nbformat_minor": 0,
  "metadata": {
    "colab": {
      "provenance": [],
      "authorship_tag": "ABX9TyOwAiSLFCV8F31zHE7BZqkG",
      "include_colab_link": true
    },
    "kernelspec": {
      "name": "python3",
      "display_name": "Python 3"
    },
    "language_info": {
      "name": "python"
    }
  },
  "cells": [
    {
      "cell_type": "markdown",
      "metadata": {
        "id": "view-in-github",
        "colab_type": "text"
      },
      "source": [
        "<a href=\"https://colab.research.google.com/github/robertnesterodhiambo/Advanced_Data_analysis/blob/main/Untitled1.ipynb\" target=\"_parent\"><img src=\"https://colab.research.google.com/assets/colab-badge.svg\" alt=\"Open In Colab\"/></a>"
      ]
    },
    {
      "cell_type": "code",
      "execution_count": 1,
      "metadata": {
        "colab": {
          "base_uri": "https://localhost:8080/"
        },
        "id": "_YUP-xn-p6KD",
        "outputId": "8bfce2d3-eb38-41f5-d3da-ee4e237af8d4"
      },
      "outputs": [
        {
          "output_type": "stream",
          "name": "stdout",
          "text": [
            "File downloaded successfully as 1000000_Sales_Records.zip\n"
          ]
        }
      ],
      "source": [
        "import requests\n",
        "\n",
        "# List of URLs to download\n",
        "urls = [\n",
        "    \"https://excelbianalytics.com/wp/wp-content/uploads/2017/07/1000000%20Sales%20Records.zip\",\n",
        "    \"https://excelbianalytics.com/wp/wp-content/uploads/2017/07/1500000%20Sales%20Records.zip\"\n",
        "]\n",
        "\n",
        "# Corresponding file names for the downloaded files\n",
        "file_names = [\n",
        "    \"1000000_Sales_Records.zip\",\n",
        "    \"1500000_Sales_Records.zip\"\n",
        "]\n",
        "\n",
        "# Loop through the URLs and download each file\n",
        "for url, file_name in zip(urls, file_names):\n",
        "    response = requests.get(url)\n",
        "    with open(file_name, \"wb\") as file:\n",
        "        file.write(response.content)\n",
        "    print(f\"File downloaded successfully as {file_name}\")\n"
      ]
    }
  ]
}